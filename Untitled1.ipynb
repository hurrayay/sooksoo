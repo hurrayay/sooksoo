{
  "nbformat": 4,
  "nbformat_minor": 0,
  "metadata": {
    "colab": {
      "provenance": [],
      "authorship_tag": "ABX9TyMPchG5Uy6rkpdvExaq6n9R",
      "include_colab_link": true
    },
    "kernelspec": {
      "name": "python3",
      "display_name": "Python 3"
    },
    "language_info": {
      "name": "python"
    }
  },
  "cells": [
    {
      "cell_type": "markdown",
      "metadata": {
        "id": "view-in-github",
        "colab_type": "text"
      },
      "source": [
        "<a href=\"https://colab.research.google.com/github/hurrayay/sooksoo/blob/main/Untitled1.ipynb\" target=\"_parent\"><img src=\"https://colab.research.google.com/assets/colab-badge.svg\" alt=\"Open In Colab\"/></a>"
      ]
    },
    {
      "cell_type": "code",
      "execution_count": 1,
      "metadata": {
        "colab": {
          "base_uri": "https://localhost:8080/"
        },
        "id": "M45CgtYuR9_h",
        "outputId": "4b00ba44-86dc-4bb5-ea97-0c3808cec955"
      },
      "outputs": [
        {
          "output_type": "stream",
          "name": "stdout",
          "text": [
            "1 X 1 = 1\n",
            "2 X 2 = 4\n",
            "3 X 3 = 9\n",
            "4 X 4 = 16\n",
            "5 X 5 = 25\n",
            "6 X 6 = 36\n",
            "7 X 7 = 49\n",
            "8 X 8 = 64\n",
            "9 X 9 = 81\n"
          ]
        }
      ],
      "source": [
        "k= 0\n",
        "for i in range(9):\n",
        "  k = i+1\n",
        "  print(k,\"X\",k,\"=\", k*k)"
      ]
    }
  ]
}